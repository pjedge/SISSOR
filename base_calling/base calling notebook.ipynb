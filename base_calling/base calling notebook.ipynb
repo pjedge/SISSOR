{
 "cells": [
  {
   "cell_type": "raw",
   "metadata": {
    "collapsed": false
   },
   "source": [
    "from math import log2\n",
    "from random import random\n",
    "from random import randrange\n",
    "from collections import defaultdict\n",
    "\n",
    "e = 1e-6\n",
    "N = 1e6\n",
    "\n",
    "bases = ['A','G','C','T']\n",
    "\n",
    "def replication(base_lst):\n",
    "    \n",
    "    new_bases = []\n",
    "    \n",
    "    for base in base_lst:\n",
    "        \n",
    "        if random() < e:\n",
    "            errbase = base\n",
    "            while errbase == base:\n",
    "                errbase = bases[randrange(4)]\n",
    "            new_bases.append(errbase)\n",
    "        else:\n",
    "            new_bases.append(base)\n",
    "            \n",
    "    return base_lst + new_bases\n",
    "\n",
    "hist = [0]*10000\n",
    "\n",
    "for i in range(1000000000):\n",
    "\n",
    "    base_lst =['A']\n",
    "\n",
    "    for r in (0,int(log2(N))):\n",
    "        base_lst = replication(base_lst)\n",
    "\n",
    "    counts = defaultdict(int)\n",
    "\n",
    "    for b in base_lst:\n",
    "        counts[b] += 1\n",
    "    \n",
    "    total = counts['A']+counts['C']+counts['T']+counts['G']\n",
    "    total_correct = counts['A']/total\n",
    "    \n",
    "    hist[int(total_correct*10000)-1] += 1\n"
   ]
  },
  {
   "cell_type": "raw",
   "metadata": {
    "collapsed": false
   },
   "source": [
    "%matplotlib inline\n",
    "from matplotlib import pyplot as plt\n",
    "\n",
    "plt.figure()\n",
    "plt.scatter([x*0.0001 for x in range(1,10001)][-10:],hist[-10:])\n",
    "#plt.yscale('log')\n",
    "#plt.xlim((-0.999,1.01))\n",
    "#plt.ylim((-10,10**6))"
   ]
  },
  {
   "cell_type": "raw",
   "metadata": {
    "collapsed": false
   },
   "source": [
    "hist[-1]"
   ]
  },
  {
   "cell_type": "raw",
   "metadata": {
    "collapsed": false,
    "scrolled": true
   },
   "source": [
    "import pickle\n",
    "import matplotlib\n",
    "%matplotlib inline\n",
    "from matplotlib import pyplot as plt\n",
    "\n",
    "covs = pickle.load(open(\"covs.p\",\"rb\"))\n",
    "\n",
    "xdata = []\n",
    "ydata = []\n",
    "\n",
    "for k,v in covs.items():\n",
    "    xdata.append(k)\n",
    "    ydata.append(v)\n",
    "\n",
    "plt.figure()\n",
    "plt.plot(xdata[1:],ydata[1:])\n",
    "plt.xscale(\"log\")\n",
    "plt.yscale(\"log\")\n",
    "plt.xlabel(\"Coverage\")\n",
    "plt.ylabel(\"Number of positions with coverage\")\n",
    "plt.title(\"Fragment coverage distribution, chr2 example\")\n"
   ]
  },
  {
   "cell_type": "markdown",
   "metadata": {},
   "source": [
    "BASE CALLING SCRATCH CODE\n",
    "====="
   ]
  },
  {
   "cell_type": "code",
   "execution_count": 1,
   "metadata": {
    "collapsed": false
   },
   "outputs": [],
   "source": [
    "import itertools\n",
    "\n",
    "bases = ['A','T','G','C']\n",
    "genotypes = list(itertools.combinations_with_replacement(bases,bases))\n",
    "#genotypes = [('A','A'),('A','T')]"
   ]
  },
  {
   "cell_type": "code",
   "execution_count": 2,
   "metadata": {
    "collapsed": false
   },
   "outputs": [],
   "source": [
    "from math import log10, factorial\n",
    "from functools import reduce\n",
    "import operator\n",
    "from collections import defaultdict\n",
    "\n",
    "# HELPER FUNCTIONS\n",
    "\n",
    "# product of list\n",
    "def prod(iterable): # credit to: http://stackoverflow.com/questions/7948291/is-there-a-built-in-product-in-python\n",
    "    return reduce(operator.mul, iterable, 1)\n",
    "\n",
    "# sum of two probabilities that are in log form\n",
    "def addlogs(a,b):\n",
    "    if a > b:\n",
    "        return a + log10(1 + pow(10, b - a))\n",
    "    else:\n",
    "        return b + log10(1 + pow(10, a - b))\n",
    "\n",
    "# difference of two probabilities that are in log form\n",
    "def subtractlogs(a,b):\n",
    "    if a > b:\n",
    "        return a + log10(1 - pow(10, b - a))\n",
    "    else:\n",
    "        return b + log10(1 - pow(10, a - b))\n",
    "\n",
    "p_null = 0.5 # probability that strand is not sampled in chamber. hardcoded until we can estimate it\n",
    "\n",
    "# helper data structures that pre-compute probabilities of strand configurations\n",
    "\n",
    "ch_priors = [log10((1-p_null)/24)]*24 + [log10(p_null)]\n",
    "poss_ch = list(range(0,25)) # the last element is \"no chamber\"\n",
    "het_config_probs = dict()\n",
    "\n",
    "for c1,c2,c3,c4 in itertools.product(poss_ch,poss_ch,poss_ch,poss_ch):\n",
    "    # because of symmetry we ignore cases where we can flip the strands for the same result\n",
    "    # e.g. we ignore cases where strand 1 is in a later chamber than strand 2 and say that\n",
    "    # the cases where it is in an earlier chamber are twice as likely. Same for strands 3,4\n",
    "    if c1 > c2 and c3 > c4:\n",
    "        perm = log10(4)\n",
    "    elif (c1 > c2 and c3 == c4) or (c1 == c2 and c3 > c4):\n",
    "        perm = log10(2)\n",
    "    elif c1 == c2 and c3 == c4:\n",
    "        perm = log10(1)\n",
    "    else:\n",
    "        continue\n",
    "\n",
    "    het_config_probs[(c1,c2,c3,c4)] = perm+ch_priors[c1]+ch_priors[c2]+ch_priors[c3]+ch_priors[c4] # probability of configuration\n",
    "    \n",
    "possible_chambers = list(range(0,25))\n",
    "\n",
    "hom_config_probs = dict()\n",
    "\n",
    "for c1,c2,c3,c4 in itertools.product(poss_ch,poss_ch,poss_ch,poss_ch):\n",
    "    \n",
    "    lst  = sorted([c1,c2,c3,c4])\n",
    "    if tuple(lst) in hom_config_probs:\n",
    "        continue\n",
    "    uniq = list(set(lst))\n",
    "    counts  = [lst.count(u) for u in uniq]\n",
    "    perm = log10(factorial(len(lst))/prod([factorial(c) for c in counts]))\n",
    "    \n",
    "    hom_config_probs[tuple(lst)] = perm+ch_priors[c1]+ch_priors[c2]+ch_priors[c3]+ch_priors[c4] # probability of configuration    \n",
    "    \n",
    "# INPUT\n",
    "# G: a tuple that specifies genotype e.g. ('A','T')\n",
    "# nonzero_chambers: a list containing the indices of chambers 0..23 (or 24, unsampled) where strands may be (have read coverage)\n",
    "# OUTPUT\n",
    "# a list of configurations represented by tuples.\n",
    "# the tuples contain (sl,prob) where sl is a 4-tuple of strand chambers (0..23 or 24) and prob is log probability of config occuring\n",
    "def singlecell_config(G,nonzero_chambers):\n",
    "    g1,g2 = G\n",
    "    nz = nonzero_chambers + [24]\n",
    "    nzs = set(nonzero_chambers)\n",
    "    \n",
    "    configs = []\n",
    "    for c1,c2,c3,c4 in itertools.product(nz,nz,nz,nz):\n",
    "        if set.intersection({c1,c2,c3,c4},nzs) != nzs:\n",
    "            continue\n",
    "\n",
    "        # c1..c4 represent the chamber placements of strands 1..4\n",
    "        sl = (c1,c2,c3,c4)\n",
    "        if (g1 == g2 and sl not in hom_config_probs) or (g1 != g2 and sl not in het_config_probs):\n",
    "            continue\n",
    "        \n",
    "        if g1 == g2:\n",
    "            prob = hom_config_probs[(c1,c2,c3,c4)]\n",
    "        else:\n",
    "            prob = het_config_probs[(c1,c2,c3,c4)]\n",
    "            \n",
    "        configs.append((sl,prob))\n",
    "\n",
    "    total = configs[0][1]\n",
    "    for i in range(1,len(configs)):\n",
    "        total = addlogs(total,configs[i][1])\n",
    "    \n",
    "    for i in range(len(configs)):\n",
    "        configs[i] = (configs[i][0], configs[i][1] - total)\n",
    "        \n",
    "    return configs\n",
    "\n",
    "# INPUT\n",
    "# G: a tuple that specifies genotype e.g. ('A','T')\n",
    "# nonzero_chambers: a list containing one list per cell.\n",
    "# the inner list should contain the indices of chambers 0..23 (or 24, unsampled) where strands are found\n",
    "# OUTPUT\n",
    "# a list of configurations represented by tuples.\n",
    "# the tuple contains one inner tuple per cell.\n",
    "# these inner tuples contain (sl,prob) where sl is a 4-tuple of strand chambers (0..23 or 24) and prob is log probability of config occuring\n",
    "def multicell_config(G,nonzero_chambers):\n",
    "    g1,g2 = G\n",
    "    \n",
    "    config_sets = [singlecell_config(G,nz) for nz in nonzero_chambers]\n",
    "    return itertools.product(*config_sets)\n",
    "    \n"
   ]
  },
  {
   "cell_type": "code",
   "execution_count": 15,
   "metadata": {
    "collapsed": false
   },
   "outputs": [],
   "source": [
    "-"
   ]
  },
  {
   "cell_type": "code",
   "execution_count": 16,
   "metadata": {
    "collapsed": true
   },
   "outputs": [],
   "source": [
    "mixed_alleles = list(set([tuple(sorted(list(x))) for x in itertools.product(alleles,alleles)]))"
   ]
  },
  {
   "cell_type": "code",
   "execution_count": 17,
   "metadata": {
    "collapsed": false
   },
   "outputs": [
    {
     "data": {
      "text/plain": [
       "[('C', 'T'),\n",
       " ('G', 'G'),\n",
       " ('C', 'C'),\n",
       " ('A', 'G'),\n",
       " ('A', 'C'),\n",
       " ('T', 'T'),\n",
       " ('A', 'A'),\n",
       " ('C', 'G'),\n",
       " ('G', 'T'),\n",
       " ('A', 'T')]"
      ]
     },
     "execution_count": 17,
     "metadata": {},
     "output_type": "execute_result"
    }
   ],
   "source": [
    "mixed_alleles"
   ]
  },
  {
   "cell_type": "code",
   "execution_count": 18,
   "metadata": {
    "collapsed": true
   },
   "outputs": [],
   "source": [
    "nz = [0,1,2,24]\n",
    "it = itertools.product(nz,nz,nz,nz)"
   ]
  },
  {
   "cell_type": "code",
   "execution_count": 19,
   "metadata": {
    "collapsed": false
   },
   "outputs": [
    {
     "data": {
      "text/plain": [
       "(0, 0, 0, 0)"
      ]
     },
     "execution_count": 19,
     "metadata": {},
     "output_type": "execute_result"
    }
   ],
   "source": [
    "next(it)"
   ]
  },
  {
   "cell_type": "code",
   "execution_count": 23,
   "metadata": {
    "collapsed": false
   },
   "outputs": [
    {
     "name": "stdout",
     "output_type": "stream",
     "text": [
      "('G',)\t0.24999999999999986\n",
      "('C', 'T')\t0.0\n",
      "('A', 'T')\t0.0\n",
      "('T',)\t0.2499999999999998\n",
      "('A', 'G')\t0.0\n",
      "('G', 'T')\t0.0\n",
      "('A', 'C')\t0.0\n",
      "('C',)\t0.24999999999999967\n",
      "('A',)\t0.2499999999999998\n",
      "('C', 'G')\t0.0\n",
      "0.9999999999999991\n"
     ]
    }
   ],
   "source": [
    "total = 0\n",
    "for k,v in mixed_allele_priors[4].items():\n",
    "    print(\"{}\\t{}\".format(k,10**v))\n",
    "    total += 10**v\n",
    "print(total)"
   ]
  },
  {
   "cell_type": "code",
   "execution_count": 29,
   "metadata": {
    "collapsed": false
   },
   "outputs": [],
   "source": [
    "\n",
    "    \n",
    "\n"
   ]
  },
  {
   "cell_type": "code",
   "execution_count": 30,
   "metadata": {
    "collapsed": false
   },
   "outputs": [
    {
     "data": {
      "text/plain": [
       "defaultdict(float,\n",
       "            {0.001949317738791423: 0.010000000000000002,\n",
       "             0.0038910505836575876: 0.020000000000000004,\n",
       "             0.007751937984496124: 0.030000000000000006,\n",
       "             0.015384615384615385: 0.04000000000000001,\n",
       "             0.030303030303030304: 0.05000000000000001,\n",
       "             0.058823529411764705: 0.06000000000000001,\n",
       "             0.1111111111111111: 0.07,\n",
       "             0.2: 0.08000000000000002,\n",
       "             0.3333333333333333: 0.09000000000000002,\n",
       "             0.5: 0.10000000000000003,\n",
       "             0.6666666666666666: 0.09000000000000002,\n",
       "             0.8: 0.08000000000000002,\n",
       "             0.8888888888888888: 0.07,\n",
       "             0.9411764705882353: 0.06000000000000001,\n",
       "             0.9696969696969697: 0.05000000000000001,\n",
       "             0.9846153846153847: 0.04000000000000001,\n",
       "             0.9922480620155039: 0.030000000000000006,\n",
       "             0.9961089494163424: 0.020000000000000004,\n",
       "             0.9980506822612085: 0.010000000000000002})"
      ]
     },
     "execution_count": 30,
     "metadata": {},
     "output_type": "execute_result"
    }
   ],
   "source": []
  },
  {
   "cell_type": "code",
   "execution_count": 31,
   "metadata": {
    "collapsed": true
   },
   "outputs": [],
   "source": [
    "P_plst = list(P_p.items())"
   ]
  },
  {
   "cell_type": "code",
   "execution_count": 33,
   "metadata": {
    "collapsed": false
   },
   "outputs": [],
   "source": [
    "P_plst.sort()"
   ]
  },
  {
   "cell_type": "code",
   "execution_count": 34,
   "metadata": {
    "collapsed": false
   },
   "outputs": [
    {
     "data": {
      "text/plain": [
       "[(0.001949317738791423, 0.010000000000000002),\n",
       " (0.0038910505836575876, 0.020000000000000004),\n",
       " (0.007751937984496124, 0.030000000000000006),\n",
       " (0.015384615384615385, 0.04000000000000001),\n",
       " (0.030303030303030304, 0.05000000000000001),\n",
       " (0.058823529411764705, 0.06000000000000001),\n",
       " (0.1111111111111111, 0.07),\n",
       " (0.2, 0.08000000000000002),\n",
       " (0.3333333333333333, 0.09000000000000002),\n",
       " (0.5, 0.10000000000000003),\n",
       " (0.6666666666666666, 0.09000000000000002),\n",
       " (0.8, 0.08000000000000002),\n",
       " (0.8888888888888888, 0.07),\n",
       " (0.9411764705882353, 0.06000000000000001),\n",
       " (0.9696969696969697, 0.05000000000000001),\n",
       " (0.9846153846153847, 0.04000000000000001),\n",
       " (0.9922480620155039, 0.030000000000000006),\n",
       " (0.9961089494163424, 0.020000000000000004),\n",
       " (0.9980506822612085, 0.010000000000000002)]"
      ]
     },
     "execution_count": 34,
     "metadata": {},
     "output_type": "execute_result"
    }
   ],
   "source": [
    "P_plst"
   ]
  },
  {
   "cell_type": "code",
   "execution_count": 12,
   "metadata": {
    "collapsed": false
   },
   "outputs": [
    {
     "name": "stdout",
     "output_type": "stream",
     "text": [
      "30 30 30\n"
     ]
    },
    {
     "ename": "AssertionError",
     "evalue": "",
     "output_type": "error",
     "traceback": [
      "\u001b[1;31m---------------------------------------------------------------------------\u001b[0m",
      "\u001b[1;31mAssertionError\u001b[0m                            Traceback (most recent call last)",
      "\u001b[1;32m<ipython-input-12-229e3ad4fffa>\u001b[0m in \u001b[0;36m<module>\u001b[1;34m()\u001b[0m\n\u001b[0;32m     27\u001b[0m \u001b[1;32mfor\u001b[0m \u001b[0mi\u001b[0m \u001b[1;32min\u001b[0m \u001b[0mrange\u001b[0m\u001b[1;33m(\u001b[0m\u001b[0mlim\u001b[0m\u001b[1;33m,\u001b[0m\u001b[1;36m2000\u001b[0m\u001b[1;33m)\u001b[0m\u001b[1;33m:\u001b[0m\u001b[1;33m\u001b[0m\u001b[0m\n\u001b[0;32m     28\u001b[0m     \u001b[0mprint\u001b[0m\u001b[1;33m(\u001b[0m\u001b[1;34m\"{} {} {}\"\u001b[0m\u001b[1;33m.\u001b[0m\u001b[0mformat\u001b[0m\u001b[1;33m(\u001b[0m\u001b[0mi\u001b[0m\u001b[1;33m,\u001b[0m\u001b[0mlen\u001b[0m\u001b[1;33m(\u001b[0m\u001b[0mcov_frac_dist\u001b[0m\u001b[1;33m[\u001b[0m\u001b[0mi\u001b[0m\u001b[1;33m]\u001b[0m\u001b[1;33m)\u001b[0m\u001b[1;33m,\u001b[0m \u001b[0mlim\u001b[0m\u001b[1;33m)\u001b[0m\u001b[1;33m)\u001b[0m\u001b[1;33m\u001b[0m\u001b[0m\n\u001b[1;32m---> 29\u001b[1;33m     \u001b[1;32massert\u001b[0m\u001b[1;33m(\u001b[0m\u001b[0mlen\u001b[0m\u001b[1;33m(\u001b[0m\u001b[0mcov_frac_dist\u001b[0m\u001b[1;33m[\u001b[0m\u001b[0mj\u001b[0m\u001b[1;33m]\u001b[0m\u001b[1;33m)\u001b[0m \u001b[1;33m==\u001b[0m \u001b[0mlim\u001b[0m\u001b[1;33m)\u001b[0m\u001b[1;33m\u001b[0m\u001b[0m\n\u001b[0m",
      "\u001b[1;31mAssertionError\u001b[0m: "
     ]
    }
   ],
   "source": [
    "import pickle\n",
    "from collections import defaultdict\n",
    "\n",
    "#P_parent1_lst = [(0.001,log10(0.495)),(0.5,log10(0.01)),(0.999,log10(0.495))]\n",
    "cov_frac_dist_raw = pickle.load(open( \"parameters/cov_frac_dist.p\", \"rb\"))\n",
    "cov_frac_dist = defaultdict(list)\n",
    "\n",
    "lim = 30\n",
    "for i in range(1,lim+1):\n",
    "    cov_frac_dist[i] = cov_frac_dist_raw[i]\n",
    "\n",
    "def chunks(l, n): # credit to http://stackoverflow.com/questions/312443/how-do-you-split-a-list-into-evenly-sized-chunks\n",
    "    \"\"\"Yield successive n-sized chunks from l.\"\"\"\n",
    "    for i in range(0, len(l), n):\n",
    "        yield l[i:i + n]\n",
    "\n",
    "# given a list with length N*binsize, sum consectutive binsize-sized chunks into a length N list\n",
    "def condense(l, binsize):\n",
    "    return [sum(x) for x in chunks(l,binsize)]\n",
    "    \n",
    "for i in range(lim,lim):\n",
    "    binsize = int(i / lim)\n",
    "    lst = condense(cov_frac_dist_raw[i], binsize)\n",
    "    for j in range(i,i+lim):\n",
    "        cov_frac_dist[j] = lst\n",
    "\n",
    "for i in range(lim,2000):\n",
    "    print(\"{} {} {}\".format(i,len(cov_frac_dist[i]), lim))\n",
    "    assert(len(cov_frac_dist[i]) == lim)"
   ]
  },
  {
   "cell_type": "code",
   "execution_count": 7,
   "metadata": {
    "collapsed": false
   },
   "outputs": [
    {
     "data": {
      "text/plain": [
       "[0.0,\n",
       " 0.0,\n",
       " 0.10433744096411704,\n",
       " 0.056285398910663552,\n",
       " 0.048079184988147589,\n",
       " 0.035367243906411161,\n",
       " 0.03527676745743083,\n",
       " 0.025758645024700072,\n",
       " 0.029106273636972296,\n",
       " 0.026301503718582052,\n",
       " 0.025785787959394169,\n",
       " 0.025034833432857426,\n",
       " 0.026310551363480088,\n",
       " 0.024817689955304634,\n",
       " 0.02479959466550857,\n",
       " 0.021334346669561913,\n",
       " 0.025025785787959394,\n",
       " 0.024808642310406602,\n",
       " 0.026708647738993539,\n",
       " 0.024464831804281346,\n",
       " 0.026337694298174185,\n",
       " 0.026455313681848613,\n",
       " 0.028138175632882761,\n",
       " 0.025686263865515806,\n",
       " 0.036398675424786926,\n",
       " 0.036244865461520365,\n",
       " 0.048902520673868591,\n",
       " 0.057588259775980311,\n",
       " 0.10464506089065016,\n",
       " 0.0]"
      ]
     },
     "execution_count": 7,
     "metadata": {},
     "output_type": "execute_result"
    }
   ],
   "source": [
    "lst"
   ]
  },
  {
   "cell_type": "code",
   "execution_count": 9,
   "metadata": {
    "collapsed": false
   },
   "outputs": [
    {
     "data": {
      "text/plain": [
       "[2, 6, 10, 14, 18]"
      ]
     },
     "execution_count": 9,
     "metadata": {},
     "output_type": "execute_result"
    }
   ],
   "source": [
    "list(range(2,20,4))"
   ]
  },
  {
   "cell_type": "code",
   "execution_count": 52,
   "metadata": {
    "collapsed": false
   },
   "outputs": [
    {
     "name": "stdout",
     "output_type": "stream",
     "text": [
      "1e-08 3.9600000000000315e-06 0.0005880599999999991 0.03881195999999959 0.9605960099999944 | 0.0\n",
      "1.6000000000000008e-07 3.136000000000023e-05 0.0023049599999999666 0.07529535999999742 0.9223681599999938 | 0.0\n",
      "8.099999999999996e-07 0.00010476000000000055 0.005080859999999927 0.10952075999999707 0.8852928099999973 | 0.0\n",
      "2.5600000000000026e-06 0.0002457599999999995 0.008847359999999874 0.14155775999999756 0.849346559999987 | 0.0\n",
      "6.249999999999997e-06 0.0004749999999999983 0.013537499999999862 0.1714749999999923 0.8145062499999898 | 0.0\n",
      "1.296e-05 0.0008121599999999975 0.019085759999999924 0.19934015999998905 0.780748959999995 | 0.0\n",
      "2.401000000000002e-05 0.0012759599999999976 0.025428059999999933 0.22521995999998926 0.7480520099999917 | 0.0\n",
      "4.095999999999998e-05 0.0018841599999999965 0.03250175999999992 0.2491801599999873 0.7163929599999945 | 0.0\n",
      "6.560999999999994e-05 0.002653559999999992 0.040245659999999905 0.27128555999998616 0.6857496099999909 | 0.0\n",
      "0.0001 0.003599999999999989 0.04859999999999985 0.29159999999998487 0.6560999999999932 | 0.0\n",
      "0.00014640999999999998 0.004738359999999983 0.05750645999999982 0.31018635999998384 0.6274224099999859 | 0.0\n",
      "0.0002073599999999999 0.0060825599999999765 0.06690815999999983 0.32710655999998406 0.599695359999988 | 0.0\n",
      "0.00028561000000000016 0.007645559999999983 0.07674965999999969 0.3424215599999866 0.5728976099999983 | 0.0\n",
      "0.00038416000000000014 0.009439359999999978 0.08697695999999965 0.3561913599999862 0.5470081600000055 | 0.0\n",
      "0.00050625 0.011474999999999985 0.09753749999999956 0.36847499999998573 0.5220062500000072 | 4.200178455182093e-284\n",
      "0.00065536 0.013762559999999981 0.10838015999999928 0.3793305599999853 0.4978713600000084 | 4.5309389065195e-219\n",
      "0.0008352099999999996 0.016311159999999977 0.11945526000000034 0.3888151599999845 0.47458321000000625 | 1.5171402850020382e-171\n",
      "0.0010497599999999994 0.01912895999999999 0.1307145600000008 0.3969849599999849 0.4521217600000026 | 3.600717761821778e-136\n",
      "0.0013032100000000002 0.022223159999999978 0.14211126000000085 0.4038951599999847 0.4304672100000035 | 2.097070172260276e-109\n",
      "0.001600000000000001 0.025599999999999987 0.15360000000000104 0.40959999999998453 0.4096000000000045 | 7.406720479634993e-89\n",
      "0.0019448100000000006 0.02926476000000001 0.16513686000000105 0.4141527599999844 0.3895008100000688 | 7.117816555494057e-73\n",
      "0.002342560000000001 0.033221759999999975 0.1766793600000011 0.4176057599999842 0.3701505600000665 | 2.702085961148909e-60\n",
      "0.002798410000000002 0.03747436000000002 0.188186460000001 0.4200103599999841 0.3515304100000607 | 2.74720659875688e-50\n",
      "0.0033177600000000003 0.04202495999999996 0.19961856000000106 0.4214169599999818 0.33362176000005644 | 3.004304100641826e-42\n",
      "0.00390625 0.04687499999999996 0.21093750000000092 0.4218749999999814 0.31640625000005296 | 9.841851048769544e-36\n",
      "0.004569760000000001 0.052024959999999995 0.22210656000000104 0.42143295999998137 0.29986576000004855 | 2.0739774430791626e-30\n",
      "0.005314410000000002 0.05747436000000004 0.23309046000000117 0.42013835999998184 0.2839824100000459 | 5.006402457564246e-26\n",
      "0.00614656 0.06322175999999992 0.243855360000001 0.418037759999984 0.268738560000044 | 2.150378115630478e-22\n",
      "0.00707281 0.06926475999999997 0.2543688600000011 0.4151767599999842 0.25411681000004227 | 2.308001127387026e-19\n",
      "0.008099999999999996 0.07559999999999997 0.26460000000000095 0.4115999999999842 0.24010000000003992 | 8.062025373739696e-17\n",
      "0.009235209999999997 0.08222315999999989 0.27451926000000093 0.4073511599999846 0.22667121000003682 | 1.1277618528848981e-14\n",
      "0.010485760000000002 0.0891289599999999 0.2840985600000011 0.4024729599999847 0.2138137600000362 | 7.444536924194095e-13\n",
      "0.011859210000000004 0.09631115999999997 0.29331126000000113 0.39700715999998465 0.2015112100000354 | 2.6432662326175182e-11\n",
      "0.013363360000000001 0.10376255999999985 0.30213216000000115 0.39099455999998506 0.1897473600000326 | 5.60746509469305e-10\n",
      "0.015006250000000004 0.11147499999999995 0.31053750000000124 0.3844749999999848 0.17850625000002932 | 7.737629271942722e-09\n",
      "0.01679616 0.11943935999999998 0.3185049600000013 0.3774873599999854 0.16777216000002607 | 7.441748918608632e-08\n",
      "0.01874161 0.12764555999999985 0.3260136600000011 0.3700695599999857 0.1575296100000213 | 5.278654399512584e-07\n",
      "0.020851360000000003 0.13608255999999982 0.3330441600000013 0.3622585599999859 0.14776336000002424 | 2.8930550094734042e-06\n",
      "0.02313441 0.1447383599999999 0.33957846000000136 0.3540903599999861 0.13845841000002268 | 1.2731715586869335e-05\n",
      "0.0256 0.15360000000000001 0.3456000000000012 0.34559999999998625 0.12960000000001942 | 4.6452122555586185e-05\n",
      "0.028257610000000002 0.16265355999999992 0.35109366000000164 0.33682155999998553 0.12117361000001935 | 0.00014431608528922858\n",
      "0.031116959999999996 0.17188415999999992 0.3560457600000015 0.32778815999998395 0.11316496000002013 | 0.00039043427193916145\n",
      "0.034188010000000005 0.18127595999999999 0.3604440600000016 0.3185319599999844 0.10556001000001924 | 0.000937358540017887\n",
      "0.03748096 0.19081216000000006 0.36427776000000034 0.3090841599999841 0.09834496000001895 | 0.0020292021829897084\n",
      "0.041006249999999994 0.20047500000000004 0.3675375000000002 0.29947499999998467 0.09150625000001782 | 0.004015112510424674\n",
      "0.04477456000000001 0.21024575999999992 0.3702153600000001 0.2897337599999853 0.08503056000001644 | 0.00734588373205788\n",
      "0.04879681 0.22010475999999993 0.3723048600000002 0.2798887599999855 0.07890481000001522 | 0.012550441414948944\n",
      "0.053084160000000005 0.2300313599999999 0.37380096000000024 0.2699673599999863 0.07311616000001406 | 0.020194274633246277\n",
      "0.05764801000000001 0.24000395999999982 0.37470006000000045 0.259995959999987 0.06765201000001322 | 0.030826556453539922\n",
      "0.0625 0.2499999999999998 0.3750000000000001 0.2499999999999872 0.0625000000000122 | 0.04492515722339904\n",
      "0.06765201000000001 0.2599959599999998 0.3747000600000002 0.24000395999998916 0.05764801000001112 | 0.06284858593670103\n",
      "0.07311616000000004 0.2699673599999998 0.37380096 0.2300313599999885 0.05308416000001021 | 0.08480163614531115\n",
      "0.07890481 0.2798887599999999 0.3723048600000004 0.22010475999998896 0.04879681000000995 | 0.11081820704661173\n",
      "0.08503055999999999 0.28973375999999984 0.3702153600000001 0.21024575999998982 0.044774560000008935 | 0.1407614599200882\n",
      "0.09150625000000004 0.2994749999999999 0.3675375000000004 0.20047499999998913 0.04100625000000861 | 0.1743388822209004\n",
      "0.09834496000000004 0.3090841599999999 0.36427776000000006 0.1908121599999899 0.03748096000000483 | 0.21112828664796982\n",
      "0.10556001000000007 0.31853196 0.36044406000000173 0.18127595999999063 0.03418801000000479 | 0.25061025060820397\n",
      "0.11316495999999994 0.3277881599999999 0.35604576000000177 0.17188415999999246 0.03111696000000391 | 0.2922027770109409\n",
      "0.12117360999999999 0.33682155999999996 0.3510936600000017 0.16265355999999578 0.02825761000000363 | 0.3352947299577689\n",
      "0.1296 0.34559999999999985 0.3456000000000014 0.1535999999999971 0.025600000000003457 | 0.3792755870102412\n",
      "0.13845841 0.35409035999999994 0.33957846000000136 0.14473835999999743 0.023134410000003276 | 0.423560038869495\n",
      "0.14776336000000004 0.36225855999999995 0.3330441600000015 0.136082559999998 0.02085136000000317 | 0.46760682301181533\n",
      "0.15752961000000001 0.3700695599999997 0.3260136600000011 0.12764555999999785 0.018741610000003035 | 0.5109318365131406\n",
      "0.16777216000000003 0.3774873599999996 0.31850496000000106 0.11943935999999805 0.016796160000003908 | 0.5531160236373813\n",
      "0.17850625000000006 0.38447500000000007 0.31053750000000124 0.11147499999999706 0.015006250000003581 | 0.593808796857266\n",
      "0.18974736000000003 0.39099456 0.3021321600000011 0.1037625599999968 0.013363360000003951 | 0.6327278627708084\n",
      "0.20151121000000008 0.39700715999999986 0.29331126000000113 0.09631115999999676 0.011859210000002752 | 0.6696563278825877\n",
      "0.21381376000000005 0.4024729599999999 0.28409856000000083 0.08912895999999698 0.010485760000002366 | 0.7044378913269433\n",
      "0.2266712100000001 0.40735116 0.2745192600000008 0.08222315999999724 0.009235210000000828 | 0.7369708235447384\n",
      "0.2401000000000001 0.4115999999999999 0.2646000000000008 0.07559999999999738 0.008100000000000707 | 0.7672013051981663\n",
      "0.25411680999999997 0.41517675999999987 0.2543688600000013 0.0692647599999977 0.007072810000000607 | 0.795116575460487\n",
      "0.26873855999999996 0.41803776 0.24385536000000124 0.06322175999999809 0.006146560000000533 | 0.820738223395384\n",
      "0.28398240999999996 0.4201383599999998 0.233090460000001 0.057474359999998184 0.005314410000000459 | 0.8441158559012824\n",
      "0.29986576 0.4214329599999999 0.22210656000000126 0.05202495999999949 0.004569760000000397 | 0.865321292753196\n",
      "0.31640625000000006 0.42187499999999994 0.21093750000000097 0.0468749999999995 0.003906250000000339 | 0.8844433735393273\n",
      "0.33362176 0.42141695999999995 0.1996185600000009 0.04202495999999951 0.003317760000000282 | 0.9015834113594553\n",
      "0.35153041 0.42001035999999986 0.18818646000000086 0.03747435999999963 0.0027984100000002423 | 0.9168512919584456\n",
      "0.37015056 0.4176057599999998 0.17667936000000103 0.033221759999999566 0.002342560000000202 | 0.9303621922125739\n",
      "0.3895008100000001 0.4141527599999997 0.1651368600000009 0.029264759999999505 0.0019448100000001598 | 0.9422338763047966\n",
      "0.4096000000000001 0.40959999999999974 0.15360000000000087 0.025599999999999425 0.0016000000000001334 | 0.9525845194072683\n",
      "0.43046721000000016 0.4038951599999997 0.14211126000000068 0.022223159999999378 0.0013032100000001027 | 0.9615310052529349\n",
      "0.45212176000000015 0.3969849599999998 0.13071456000000078 0.019128959999999137 0.0010497600000000853 | 0.9691876435371035\n",
      "0.47458321000000014 0.3888151599999998 0.1194552600000001 0.016311159999998666 0.0008352100000000655 | 0.9756652528148425\n",
      "0.49787135999999993 0.37933055999999976 0.10838015999999928 0.013762559999998609 0.0006553600000000657 | 0.9810705492660396\n",
      "0.52200625 0.3684749999999996 0.09753749999999965 0.011474999999998507 0.0005062500000000466 | 0.9855057597450785\n",
      "0.54700816 0.3561913599999998 0.08697695999999965 0.009439359999999427 0.00038416000000012114 | 0.9890683100279851\n",
      "0.57289761 0.3424215599999998 0.07674965999999969 0.007645559999999521 0.0002856100000000869 | 0.9918502504545064\n",
      "0.59969536 0.3271065599999998 0.06690815999999987 0.006082559999999623 0.00020736000000006987 | 0.9939365642487075\n",
      "0.6274224100000001 0.3101863599999998 0.05750645999999986 0.004738359999999697 0.00014641000000006167 | 0.9954000652988156\n",
      "0.6561 0.2915999999999999 0.04859999999999993 0.0035999999999997753 0.00010000000000005951 | 0.9962864350782289\n",
      "0.6857496100000001 0.27128555999999976 0.040245659999999905 0.0026535599999998427 6.561000000003898e-05 | 0.9965702669681181\n",
      "0.7163929600000002 0.24918015999999968 0.03250175999999991 0.0018841599999998866 4.0960000000024273e-05 | 0.9960215549406133\n",
      "0.7480520100000002 0.22521995999999977 0.02542805999999988 0.0012759599999999298 2.4010000000014212e-05 | 0.9937751303681939\n",
      "0.7807489600000002 0.19934015999999985 0.019085759999999903 0.000812159999999956 1.2960000000007687e-05 | 0.9868241941962713\n",
      "0.8145062500000002 0.17147499999999974 0.01353749999999982 0.00047499999999994536 6.250000000003691e-06 | 0.9642364354095293\n",
      "0.8493465599999999 0.1415577600000001 0.008847359999999893 0.0002457599999999807 2.5600000000015366e-06 | 0.8835504930198866\n",
      "0.8852928099999999 0.10952075999999997 0.0050808599999999475 0.00010476000000000902 8.100000000004866e-07 | 0.5942634215547935\n",
      "0.92236816 0.07529535999999996 0.002304959999999976 3.1360000000000615e-05 1.6000000000009792e-07 | 0.05404645259488935\n",
      "0.96059601 0.03881196000000005 0.0005880599999999991 3.96000000000008e-06 9.999999999986175e-09 | 7.833223542831668e-15\n"
     ]
    }
   ],
   "source": [
    "import itertools\n",
    "import math\n",
    "from math import log10\n",
    "import pickle\n",
    "from collections import defaultdict\n",
    "from scipy.stats import chisquare\n",
    "\n",
    "chroms = ['chr{}'.format(i) for i in range(1,23)] + ['chrX','chrY']\n",
    "cells = ['PGP1_21','PGP1_22','PGP1_A1']\n",
    "n_chambers = 24\n",
    "chambers = list(range(1,n_chambers+1))\n",
    "bases = ['A','T','G','C']\n",
    "genotypes = list(itertools.combinations_with_replacement(bases,2))\n",
    "parameters_dir = 'parameters'\n",
    "# sum of two probabilities that are in log form\n",
    "def addlogs(a,b):\n",
    "    if a > b:\n",
    "        return a + log10(1 + pow(10, b - a))\n",
    "    else:\n",
    "        return b + log10(1 + pow(10, a - b))\n",
    "\n",
    "###############################################################################\n",
    "# TEMPORARILY HARDCODED (need to be estimated form data in final version)\n",
    "###############################################################################\n",
    "\n",
    "#omega = pickle.load(open(\"parameters/MDA_error_rate.p\", \"rb\"))\n",
    "grams_DNA_before_MDA  = 0.25e-12  # 0.25 pg\n",
    "grams_DNA_after_MDA = 6e-9        # 6 ng\n",
    "GAIN = grams_DNA_after_MDA / grams_DNA_before_MDA\n",
    "omega = log10(3.2e-6 / 2 * math.log2(GAIN)) # probability of MDA error.\n",
    "# formula from this paper: http://journals.plos.org/plosone/article?id=10.1371/journal.pone.0105585\n",
    "\n",
    "#p_null = 0.5          # probability that strand is not sampled in chamber. hardcoded until we can estimate it\n",
    "\n",
    "het_snp_rate = 0.0005\n",
    "hom_snp_rate = 0.001\n",
    "\n",
    "n_cells = 3\n",
    "alleles = ['A','T','G','C']\n",
    "#allele_percents = [27.25,18.90,18.91,27.29]  # percentages of bases from hg19, http://seqanswers.com/forums/archive/index.php/t-12359.html\n",
    "#allele_priors   = [log10(a/sum(allele_percents)) for a in allele_percents]\n",
    "mixed_alleles = list(set([tuple(sorted(list(set(x)))) for x in itertools.product(alleles,alleles)]))\n",
    "#azip = list(zip(alleles, allele_priors))\n",
    "transition = {'A':'G','G':'A','T':'C','C':'T'}\n",
    "\n",
    "total_sampled_cell_positions = pickle.load(open(\"{}/total_sampled_cell_positions.p\".format(parameters_dir), \"rb\"))#genome_size*sample_rate\n",
    "# estimate proportions of strands in chambers\n",
    "chamber_position_counts = pickle.load(open(\"{}/chamber_position_counts.p\".format(parameters_dir), \"rb\" ))\n",
    "total = sum(list(chamber_position_counts.values()))\n",
    "chamber_proportions = [chamber_position_counts[chamber]/total for chamber in range(0,24)]\n",
    "chamber_proportions = [x if x != 0 else 1e-10 for x in chamber_proportions]\n",
    "total = sum(chamber_proportions)\n",
    "chamber_proportions = [x/total for x in chamber_proportions]\n",
    "\n",
    "                       \n",
    "# estimate p_null, the probability of a strand not being sampled.\n",
    "# we'll iterate over many possible values and choose the one that minimizes p-value for chi-square goodness of fit\n",
    "#genome_size = 2897310462\n",
    "strand_coverage_counts = pickle.load(open(\"{}/strand_coverage_counts.p\".format(parameters_dir), \"rb\" ))\n",
    "\n",
    "\n",
    "p_null = 0.75\n",
    "ch_priors = [log10((1-p_null)/24)]*24 + [log10(p_null)]\n",
    "\n",
    "max_pval = 0\n",
    "sample_rate = 0.001\n",
    "total_coverage = sum(list(strand_coverage_counts.values()))\n",
    "observed_proportions = [strand_coverage_counts[i]/total_coverage for i in range(0,5)]\n",
    "\n",
    "for i in range(1,100):\n",
    "    \n",
    "    putative_p_null = i*0.01\n",
    "    putative_ch_priors = [log10((1-putative_p_null) * x) for x in chamber_proportions] + [log10(putative_p_null)]   # prior probability of sampling a given chamber\n",
    "\n",
    "    # given these proportions, compute the expected proportions of positions\n",
    "    # with a given number of strands present.\n",
    "    \n",
    "    poss_ch = list(range(0,25)) # the last element is \"no chamber\"\n",
    "    coverage_dict = dict()\n",
    "    for j in range(0,5):\n",
    "        coverage_dict[j] = -1e100\n",
    "    seen_cfgs = set()\n",
    "    plist = []\n",
    "    for c1,c2,c3,c4 in itertools.product(poss_ch,poss_ch,poss_ch,poss_ch):\n",
    "        # because of symmetry we ignore cases where we can flip the strands for the same result\n",
    "        # e.g. we ignore cases where strand 1 is in a later chamber than strand 2 and say that\n",
    "        # the cases where it is in an earlier chamber are twice as likely. Same for strands 3,4\n",
    "        if c1 > c2:\n",
    "            temp = c1\n",
    "            c1 = c2\n",
    "            c2 = temp\n",
    "    \n",
    "        if c3 > c4:\n",
    "            temp = c3\n",
    "            c3 = c4\n",
    "            c4 = temp  \n",
    "    \n",
    "        if (c1,c2,c3,c4) in seen_cfgs:\n",
    "            continue\n",
    "        \n",
    "        if c1 < c2 and c3 < c4:\n",
    "            perm = log10(4)\n",
    "        elif (c1 < c2 and c3 == c4) or (c1 == c2 and c3 < c4):\n",
    "            perm = log10(2)\n",
    "        elif c1 == c2 and c3 == c4:\n",
    "            perm = log10(1)\n",
    "        else:\n",
    "            continue\n",
    "        seen_cfgs.add((c1,c2,c3,c4))\n",
    "        strands_present = 4\n",
    "        for c in [c1,c2,c3,c4]:\n",
    "            if c == 24:\n",
    "                strands_present -= 1\n",
    "                \n",
    "        cfg_prob = perm+putative_ch_priors[c1]+putative_ch_priors[c2]+putative_ch_priors[c3]+putative_ch_priors[c4]\n",
    "        coverage_dict[strands_present] = addlogs(coverage_dict[strands_present],cfg_prob) # probability of configuration\n",
    "        \n",
    "    expected_proportions = [10**coverage_dict[j] for j in range(0,5)]\n",
    "    e = expected_proportions\n",
    "    chisq, chisq_pval = chisquare(observed_proportions, expected_proportions)\n",
    "    print(\"{} {} {} {} {} | {}\".format(e[0],e[1],e[2],e[3],e[4],chisq_pval))\n",
    "                          \n",
    "    if chisq_pval > max_pval:\n",
    "        max_pval = chisq_pval\n",
    "        p_null = putative_p_null\n",
    "        ch_priors = putative_ch_priors"
   ]
  },
  {
   "cell_type": "code",
   "execution_count": 42,
   "metadata": {
    "collapsed": false
   },
   "outputs": [
    {
     "data": {
      "text/plain": [
       "27.490336077353305"
      ]
     },
     "execution_count": 42,
     "metadata": {},
     "output_type": "execute_result"
    }
   ],
   "source": [
    "sum([10**x for x in putative_ch_priors])"
   ]
  },
  {
   "cell_type": "code",
   "execution_count": 55,
   "metadata": {
    "collapsed": false
   },
   "outputs": [
    {
     "data": {
      "text/plain": [
       "[9.99999998800001e-13,\n",
       " 9.99999998800001e-13,\n",
       " 9.99999998800001e-13,\n",
       " 0.0006666666658666673,\n",
       " 0.0006666666658666673,\n",
       " 9.99999998800001e-13,\n",
       " 9.99999998800001e-13,\n",
       " 9.99999998800001e-13,\n",
       " 9.99999998800001e-13,\n",
       " 9.99999998800001e-13,\n",
       " 9.99999998800001e-13,\n",
       " 0.0013333333317333347,\n",
       " 0.0006666666658666673,\n",
       " 0.0006666666658666673,\n",
       " 0.0006666666658666673,\n",
       " 9.99999998800001e-13,\n",
       " 0.0006666666658666673,\n",
       " 0.0006666666658666673,\n",
       " 0.0006666666658666673,\n",
       " 0.0019999999976000023,\n",
       " 0.0006666666658666673,\n",
       " 9.99999998800001e-13,\n",
       " 9.99999998800001e-13,\n",
       " 0.0006666666658666673,\n",
       " 0.99]"
      ]
     },
     "execution_count": 55,
     "metadata": {},
     "output_type": "execute_result"
    }
   ],
   "source": [
    "[10**x for x in putative_ch_priors]"
   ]
  },
  {
   "cell_type": "code",
   "execution_count": 44,
   "metadata": {
    "collapsed": false
   },
   "outputs": [
    {
     "data": {
      "text/plain": [
       "dict_keys([0, 1, 2, 3, 4])"
      ]
     },
     "execution_count": 44,
     "metadata": {},
     "output_type": "execute_result"
    }
   ],
   "source": [
    "coverage_dict.keys()"
   ]
  },
  {
   "cell_type": "code",
   "execution_count": 45,
   "metadata": {
    "collapsed": false
   },
   "outputs": [
    {
     "data": {
      "text/plain": [
       "[0.8166666666666667,\n",
       " 0.13333333333333333,\n",
       " 0.03333333333333333,\n",
       " 0.016666666666666666,\n",
       " 0.0]"
      ]
     },
     "execution_count": 45,
     "metadata": {},
     "output_type": "execute_result"
    }
   ],
   "source": [
    "observed_proportions\n"
   ]
  },
  {
   "cell_type": "code",
   "execution_count": 5,
   "metadata": {
    "collapsed": false
   },
   "outputs": [
    {
     "name": "stdout",
     "output_type": "stream",
     "text": [
      "PGP1_21\n",
      "total:  12935933000\n",
      "median: 29000.0\n",
      "PGP1_22\n",
      "total:  12260067000\n",
      "median: 24000\n",
      "PGP1_A1\n",
      "total:  8080167000\n",
      "median: 135000.0\n",
      "TOTAL\n",
      "33276167000\n"
     ]
    }
   ],
   "source": [
    "from statistics import median\n",
    "cells = ['PGP1_21','PGP1_22','PGP1_A1']\n",
    "chambers = list(range(1,25))\n",
    "total_base = 0\n",
    "\n",
    "for cell in cells:\n",
    "    print(cell)\n",
    "    cell_tot = 0\n",
    "    lens = []\n",
    "    for ch in chambers:\n",
    "        infile = 'fragment_boundary_beds/{}/ch{}.bed'.format(cell,ch)\n",
    "        with open(infile,'r') as inf:\n",
    "            for line in inf:\n",
    "                el = line.strip().split()\n",
    "                start = int(el[1])\n",
    "                end   = int(el[2])\n",
    "                cell_tot += end-start\n",
    "                lens.append(end-start)\n",
    "    \n",
    "    \n",
    "    print('total:  {}'.format(cell_tot))\n",
    "    print('median: {}'.format(median(lens)))\n",
    "    total_base += cell_tot\n",
    "print(\"TOTAL\")\n",
    "print(total_base)"
   ]
  },
  {
   "cell_type": "code",
   "execution_count": 4,
   "metadata": {
    "collapsed": false
   },
   "outputs": [
    {
     "data": {
      "text/plain": [
       "12.8"
      ]
     },
     "execution_count": 4,
     "metadata": {},
     "output_type": "execute_result"
    }
   ],
   "source": [
    "4*3.2"
   ]
  },
  {
   "cell_type": "code",
   "execution_count": null,
   "metadata": {
    "collapsed": true
   },
   "outputs": [],
   "source": []
  }
 ],
 "metadata": {
  "kernelspec": {
   "display_name": "Python 3",
   "language": "python",
   "name": "python3"
  },
  "language_info": {
   "codemirror_mode": {
    "name": "ipython",
    "version": 3
   },
   "file_extension": ".py",
   "mimetype": "text/x-python",
   "name": "python",
   "nbconvert_exporter": "python",
   "pygments_lexer": "ipython3",
   "version": "3.5.2"
  }
 },
 "nbformat": 4,
 "nbformat_minor": 0
}
