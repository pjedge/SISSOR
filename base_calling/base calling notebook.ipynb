{
 "cells": [
  {
   "cell_type": "raw",
   "metadata": {
    "collapsed": false
   },
   "source": [
    "from math import log2\n",
    "from random import random\n",
    "from random import randrange\n",
    "from collections import defaultdict\n",
    "\n",
    "e = 1e-6\n",
    "N = 1e6\n",
    "\n",
    "bases = ['A','G','C','T']\n",
    "\n",
    "def replication(base_lst):\n",
    "    \n",
    "    new_bases = []\n",
    "    \n",
    "    for base in base_lst:\n",
    "        \n",
    "        if random() < e:\n",
    "            errbase = base\n",
    "            while errbase == base:\n",
    "                errbase = bases[randrange(4)]\n",
    "            new_bases.append(errbase)\n",
    "        else:\n",
    "            new_bases.append(base)\n",
    "            \n",
    "    return base_lst + new_bases\n",
    "\n",
    "hist = [0]*10000\n",
    "\n",
    "for i in range(1000000000):\n",
    "\n",
    "    base_lst =['A']\n",
    "\n",
    "    for r in (0,int(log2(N))):\n",
    "        base_lst = replication(base_lst)\n",
    "\n",
    "    counts = defaultdict(int)\n",
    "\n",
    "    for b in base_lst:\n",
    "        counts[b] += 1\n",
    "    \n",
    "    total = counts['A']+counts['C']+counts['T']+counts['G']\n",
    "    total_correct = counts['A']/total\n",
    "    \n",
    "    hist[int(total_correct*10000)-1] += 1\n"
   ]
  },
  {
   "cell_type": "raw",
   "metadata": {
    "collapsed": false
   },
   "source": [
    "%matplotlib inline\n",
    "from matplotlib import pyplot as plt\n",
    "\n",
    "plt.figure()\n",
    "plt.scatter([x*0.0001 for x in range(1,10001)][-10:],hist[-10:])\n",
    "#plt.yscale('log')\n",
    "#plt.xlim((-0.999,1.01))\n",
    "#plt.ylim((-10,10**6))"
   ]
  },
  {
   "cell_type": "raw",
   "metadata": {
    "collapsed": false
   },
   "source": [
    "hist[-1]"
   ]
  },
  {
   "cell_type": "raw",
   "metadata": {
    "collapsed": false,
    "scrolled": true
   },
   "source": [
    "import pickle\n",
    "import matplotlib\n",
    "%matplotlib inline\n",
    "from matplotlib import pyplot as plt\n",
    "\n",
    "covs = pickle.load(open(\"covs.p\",\"rb\"))\n",
    "\n",
    "xdata = []\n",
    "ydata = []\n",
    "\n",
    "for k,v in covs.items():\n",
    "    xdata.append(k)\n",
    "    ydata.append(v)\n",
    "\n",
    "plt.figure()\n",
    "plt.plot(xdata[1:],ydata[1:])\n",
    "plt.xscale(\"log\")\n",
    "plt.yscale(\"log\")\n",
    "plt.xlabel(\"Coverage\")\n",
    "plt.ylabel(\"Number of positions with coverage\")\n",
    "plt.title(\"Fragment coverage distribution, chr2 example\")\n"
   ]
  },
  {
   "cell_type": "markdown",
   "metadata": {},
   "source": [
    "BASE CALLING SCRATCH CODE\n",
    "====="
   ]
  },
  {
   "cell_type": "code",
   "execution_count": 1,
   "metadata": {
    "collapsed": false
   },
   "outputs": [],
   "source": [
    "import itertools\n",
    "\n",
    "bases = ['A','T','G','C']\n",
    "genotypes = list(itertools.product(bases,bases))\n",
    "#genotypes = [('A','A'),('A','T')]"
   ]
  },
  {
   "cell_type": "code",
   "execution_count": 2,
   "metadata": {
    "collapsed": false
   },
   "outputs": [],
   "source": [
    "from math import log10, factorial\n",
    "from functools import reduce\n",
    "import operator\n",
    "\n",
    "# HELPER FUNCTIONS\n",
    "\n",
    "# product of list\n",
    "def prod(iterable): # credit to: http://stackoverflow.com/questions/7948291/is-there-a-built-in-product-in-python\n",
    "    return reduce(operator.mul, iterable, 1)\n",
    "\n",
    "# sum of two probabilities that are in log form\n",
    "def addlogs(a,b):\n",
    "    if a > b:\n",
    "        return a + log10(1 + pow(10, b - a))\n",
    "    else:\n",
    "        return b + log10(1 + pow(10, a - b))\n",
    "\n",
    "# difference of two probabilities that are in log form\n",
    "def subtractlogs(a,b):\n",
    "    if a > b:\n",
    "        return a + log10(1 - pow(10, b - a))\n",
    "    else:\n",
    "        return b + log10(1 - pow(10, a - b))\n",
    "\n",
    "p_null = 0.5 # probability that strand is not sampled in chamber. hardcoded until we can estimate it\n",
    "\n",
    "# helper data structures that pre-compute probabilities of strand configurations\n",
    "\n",
    "ch_priors = [log10((1-p_null)/24)]*24 + [log10(p_null)]\n",
    "poss_ch = list(range(0,25)) # the last element is \"no chamber\"\n",
    "het_config_probs = dict()\n",
    "\n",
    "for c1,c2,c3,c4 in itertools.product(poss_ch,poss_ch,poss_ch,poss_ch):\n",
    "    # because of symmetry we ignore cases where we can flip the strands for the same result\n",
    "    # e.g. we ignore cases where strand 1 is in a later chamber than strand 2 and say that\n",
    "    # the cases where it is in an earlier chamber are twice as likely. Same for strands 3,4\n",
    "    if c1 > c2 and c3 > c4:\n",
    "        perm = log10(4)\n",
    "    elif (c1 > c2 and c3 == c4) or (c1 == c2 and c3 > c4):\n",
    "        perm = log10(2)\n",
    "    elif c1 == c2 and c3 == c4:\n",
    "        perm = log10(1)\n",
    "    else:\n",
    "        continue\n",
    "\n",
    "    het_config_probs[(c1,c2,c3,c4)] = perm+ch_priors[c1]+ch_priors[c2]+ch_priors[c3]+ch_priors[c4] # probability of configuration\n",
    "    \n",
    "possible_chambers = list(range(0,25))\n",
    "\n",
    "hom_config_probs = dict()\n",
    "\n",
    "for c1,c2,c3,c4 in itertools.product(poss_ch,poss_ch,poss_ch,poss_ch):\n",
    "    \n",
    "    lst  = sorted([c1,c2,c3,c4])\n",
    "    if tuple(lst) in hom_config_probs:\n",
    "        continue\n",
    "    uniq = list(set(lst))\n",
    "    counts  = [lst.count(u) for u in uniq]\n",
    "    perm = log10(factorial(len(lst))/prod([factorial(c) for c in counts]))\n",
    "    \n",
    "    hom_config_probs[tuple(lst)] = perm+ch_priors[c1]+ch_priors[c2]+ch_priors[c3]+ch_priors[c4] # probability of configuration    \n",
    "    \n",
    "# INPUT\n",
    "# G: a tuple that specifies genotype e.g. ('A','T')\n",
    "# nonzero_chambers: a list containing the indices of chambers 0..23 (or 24, unsampled) where strands may be (have read coverage)\n",
    "# OUTPUT\n",
    "# a list of configurations represented by tuples.\n",
    "# the tuples contain (sl,prob) where sl is a 4-tuple of strand chambers (0..23 or 24) and prob is log probability of config occuring\n",
    "def singlecell_config(G,nonzero_chambers):\n",
    "    g1,g2 = G\n",
    "    nz = nonzero_chambers + [24]\n",
    "    nzs = set(nonzero_chambers)\n",
    "    \n",
    "    configs = []\n",
    "    #count = 0     # TEMP\n",
    "    for c1,c2,c3,c4 in itertools.product(nz,nz,nz,nz):\n",
    "        if set.intersection({c1,c2,c3,c4},nzs) != nzs:\n",
    "            continue\n",
    "        #count += 1 # TEMP\n",
    "        #continue   # TEMP\n",
    "        # c1..c4 represent the chamber placements of strands 1..4\n",
    "        sl = (c1,c2,c3,c4)\n",
    "        if (g1 == g2 and sl not in hom_config_probs) or (g1 != g2 and sl not in het_config_probs):\n",
    "            continue\n",
    "        \n",
    "        if g1 == g2:\n",
    "            prob = hom_config_probs[(c1,c2,c3,c4)]\n",
    "        else:\n",
    "            prob = het_config_probs[(c1,c2,c3,c4)]\n",
    "            \n",
    "        configs.append((sl,prob))\n",
    "    #return count      # TEMP\n",
    "    total = configs[0][1]\n",
    "    for i in range(1,len(configs)):\n",
    "        total = addlogs(total,configs[i][1])\n",
    "    \n",
    "    for i in range(len(configs)):\n",
    "        configs[i] = (configs[i][0], configs[i][1] - total)\n",
    "        \n",
    "    return configs\n",
    "\n",
    "# INPUT\n",
    "# G: a tuple that specifies genotype e.g. ('A','T')\n",
    "# nonzero_chambers: a list containing one list per cell.\n",
    "# the inner list should contain the indices of chambers 0..23 (or 24, unsampled) where strands are found\n",
    "# OUTPUT\n",
    "# a list of configurations represented by tuples.\n",
    "# the tuple contains one inner tuple per cell.\n",
    "# these inner tuples contain (sl,prob) where sl is a 4-tuple of strand chambers (0..23 or 24) and prob is log probability of config occuring\n",
    "def multicell_config(G,nonzero_chambers):\n",
    "    g1,g2 = G\n",
    "    \n",
    "    #total2 = 1                              #TEMP\n",
    "    #for nz in nonzero_chambers:             #TEMP\n",
    "    #    total2 *= singlecell_config(G,nz)   #TEMP\n",
    "    #return total2 #TEMP\n",
    "    config_sets = [singlecell_config(G,nz) for nz in nonzero_chambers]\n",
    "    return itertools.product(*config_sets)\n",
    "    \n"
   ]
  },
  {
   "cell_type": "code",
   "execution_count": 15,
   "metadata": {
    "collapsed": false
   },
   "outputs": [],
   "source": [
    "epsilon = log10(0.0001)\n",
    "\n",
    "genotype_priors = dict()\n",
    "for g in genotypes:\n",
    "    genotype_priors[g] = log10(1/16)\n",
    "n_cells = 3\n",
    "alleles = ['A','T','G','C']\n",
    "mixed_alleles = list(set([tuple(sorted(list(set(x)))) for x in itertools.product(alleles,alleles)]))\n",
    "\n",
    "# accessed as mixed_allele_priors[x][y]\n",
    "# where x is the number of chambers with reads\n",
    "# and y is the allele mixture as an alphabetically sorted tuple\n",
    "mixed_allele_priors = {1:dict(),2:dict(),3:dict(),4:dict()}\n",
    "\n",
    "for i in range(1,5):\n",
    "    for mixed_allele in mixed_alleles:\n",
    "        mixed_allele_priors[i][mixed_allele] = -1e100\n",
    "\n",
    "for i in range(1,5):\n",
    "    for G in genotypes:\n",
    "        nz = list(range(i))\n",
    "        cfgs = singlecell_config(G,nz)\n",
    "\n",
    "        for (c1,c2,c3,c4), p in cfgs:\n",
    "            # probability of configuration\n",
    "            p += genotype_priors[G] - log10(len({c1,c2,c3,c4}))\n",
    "\n",
    "            for j in {c1,c2,c3,c4}:\n",
    "\n",
    "                alleles_present = []\n",
    "                if c1 == j:\n",
    "                    alleles_present.append(G[0])\n",
    "                if c2 == j:\n",
    "                    alleles_present.append(G[0])\n",
    "                if c3 == j:\n",
    "                    alleles_present.append(G[1])\n",
    "                if c4 == j:\n",
    "                    alleles_present.append(G[1])\n",
    "\n",
    "                alleles_present = tuple(sorted(list(set(alleles_present))))\n",
    "\n",
    "                mixed_allele_priors[i][alleles_present] = addlogs(mixed_allele_priors[i][alleles_present], p)\n",
    "                                                \n",
    "# compute probability that allele is present in chamber\n",
    "def pr_allele(allele, chamber, base_data, qual_data, configurations):\n",
    "    \n",
    "    res = []\n",
    "    probs = []\n",
    "    \n",
    "    for allele in mixed_alleles:\n",
    "        \n",
    "        probs.append(pr_all_chamber_data(allele, chamber, base_data, qual_data, configurations)) \n",
    "    \n",
    "    # denominator for bayes rule posterior calculation\n",
    "    total = -1e100\n",
    "    for p, ap in zip(probs,allele_priors):\n",
    "        total = addlogs(total,p+ap)\n",
    "    \n",
    "    for a, prob in zip(mixed_alleles,probs):\n",
    "        \n",
    "        posterior = prob - total\n",
    "        res.append(a,10**posterior)\n",
    "        \n",
    "    return res\n",
    "\n",
    "def pr_all_chamber_data(allele, chamber, base_data, qual_data, configs):\n",
    "    \n",
    "    total = -1e100\n",
    "    \n",
    "    for G in genotypes:\n",
    "        for config in configs:\n",
    "            \n",
    "            p = genotype_priors[G] \n",
    "            \n",
    "            for i in range(len(config)):\n",
    "\n",
    "                (c1,c2,c3,c4), p_cell_cfg = config[i]\n",
    "                p += p_cell_cfg\n",
    "                \n",
    "            for i in range(24):\n",
    "                    \n",
    "                alleles_present = []\n",
    "                if c1 == i:\n",
    "                    alleles_present.append(G[0])\n",
    "                if c2 == i:\n",
    "                    alleles_present.append(G[0])\n",
    "                if c3 == i:\n",
    "                    alleles_present.append(G[1])\n",
    "                if c4 == i:\n",
    "                    alleles_present.append(G[1])\n",
    "                \n",
    "                alleles_present = tuple(sorted(list(set(alleles_present))))\n",
    "                \n",
    "                if alleles_present == allele:\n",
    "                \n",
    "                    p += pr_one_chamber_data(alleles_present, base_data[j], qual_data[j])\n",
    "            \n",
    "            total = addlogs(total,p)\n",
    "            \n",
    "            \n",
    "#def pr_one_chamber_data(alleles_present, base_data, qual_data):\n",
    "    \n",
    "    #if len(alleles_present) == 1           "
   ]
  },
  {
   "cell_type": "code",
   "execution_count": 16,
   "metadata": {
    "collapsed": true
   },
   "outputs": [],
   "source": [
    "mixed_alleles = list(set([tuple(sorted(list(x))) for x in itertools.product(alleles,alleles)]))"
   ]
  },
  {
   "cell_type": "code",
   "execution_count": 17,
   "metadata": {
    "collapsed": false
   },
   "outputs": [
    {
     "data": {
      "text/plain": [
       "[('C', 'T'),\n",
       " ('G', 'G'),\n",
       " ('C', 'C'),\n",
       " ('A', 'G'),\n",
       " ('A', 'C'),\n",
       " ('T', 'T'),\n",
       " ('A', 'A'),\n",
       " ('C', 'G'),\n",
       " ('G', 'T'),\n",
       " ('A', 'T')]"
      ]
     },
     "execution_count": 17,
     "metadata": {},
     "output_type": "execute_result"
    }
   ],
   "source": [
    "mixed_alleles"
   ]
  },
  {
   "cell_type": "code",
   "execution_count": 18,
   "metadata": {
    "collapsed": true
   },
   "outputs": [],
   "source": [
    "nz = [0,1,2,24]\n",
    "it = itertools.product(nz,nz,nz,nz)"
   ]
  },
  {
   "cell_type": "code",
   "execution_count": 19,
   "metadata": {
    "collapsed": false
   },
   "outputs": [
    {
     "data": {
      "text/plain": [
       "(0, 0, 0, 0)"
      ]
     },
     "execution_count": 19,
     "metadata": {},
     "output_type": "execute_result"
    }
   ],
   "source": [
    "next(it)"
   ]
  },
  {
   "cell_type": "code",
   "execution_count": 23,
   "metadata": {
    "collapsed": false
   },
   "outputs": [
    {
     "name": "stdout",
     "output_type": "stream",
     "text": [
      "('G',)\t0.24999999999999986\n",
      "('C', 'T')\t0.0\n",
      "('A', 'T')\t0.0\n",
      "('T',)\t0.2499999999999998\n",
      "('A', 'G')\t0.0\n",
      "('G', 'T')\t0.0\n",
      "('A', 'C')\t0.0\n",
      "('C',)\t0.24999999999999967\n",
      "('A',)\t0.2499999999999998\n",
      "('C', 'G')\t0.0\n",
      "0.9999999999999991\n"
     ]
    }
   ],
   "source": [
    "total = 0\n",
    "for k,v in mixed_allele_priors[4].items():\n",
    "    print(\"{}\\t{}\".format(k,10**v))\n",
    "    total += 10**v\n",
    "print(total)"
   ]
  },
  {
   "cell_type": "code",
   "execution_count": null,
   "metadata": {
    "collapsed": true
   },
   "outputs": [],
   "source": []
  },
  {
   "cell_type": "code",
   "execution_count": null,
   "metadata": {
    "collapsed": true
   },
   "outputs": [],
   "source": []
  }
 ],
 "metadata": {
  "kernelspec": {
   "display_name": "Python 3",
   "language": "python",
   "name": "python3"
  },
  "language_info": {
   "codemirror_mode": {
    "name": "ipython",
    "version": 3
   },
   "file_extension": ".py",
   "mimetype": "text/x-python",
   "name": "python",
   "nbconvert_exporter": "python",
   "pygments_lexer": "ipython3",
   "version": "3.5.1"
  }
 },
 "nbformat": 4,
 "nbformat_minor": 0
}
