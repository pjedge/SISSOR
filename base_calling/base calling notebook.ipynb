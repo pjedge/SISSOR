{
 "cells": [
  {
   "cell_type": "raw",
   "metadata": {
    "collapsed": false
   },
   "source": [
    "from math import log2\n",
    "from random import random\n",
    "from random import randrange\n",
    "from collections import defaultdict\n",
    "\n",
    "e = 1e-6\n",
    "N = 1e6\n",
    "\n",
    "bases = ['A','G','C','T']\n",
    "\n",
    "def replication(base_lst):\n",
    "    \n",
    "    new_bases = []\n",
    "    \n",
    "    for base in base_lst:\n",
    "        \n",
    "        if random() < e:\n",
    "            errbase = base\n",
    "            while errbase == base:\n",
    "                errbase = bases[randrange(4)]\n",
    "            new_bases.append(errbase)\n",
    "        else:\n",
    "            new_bases.append(base)\n",
    "            \n",
    "    return base_lst + new_bases\n",
    "\n",
    "hist = [0]*10000\n",
    "\n",
    "for i in range(1000000000):\n",
    "\n",
    "    base_lst =['A']\n",
    "\n",
    "    for r in (0,int(log2(N))):\n",
    "        base_lst = replication(base_lst)\n",
    "\n",
    "    counts = defaultdict(int)\n",
    "\n",
    "    for b in base_lst:\n",
    "        counts[b] += 1\n",
    "    \n",
    "    total = counts['A']+counts['C']+counts['T']+counts['G']\n",
    "    total_correct = counts['A']/total\n",
    "    \n",
    "    hist[int(total_correct*10000)-1] += 1\n"
   ]
  },
  {
   "cell_type": "raw",
   "metadata": {
    "collapsed": false
   },
   "source": [
    "%matplotlib inline\n",
    "from matplotlib import pyplot as plt\n",
    "\n",
    "plt.figure()\n",
    "plt.scatter([x*0.0001 for x in range(1,10001)][-10:],hist[-10:])\n",
    "#plt.yscale('log')\n",
    "#plt.xlim((-0.999,1.01))\n",
    "#plt.ylim((-10,10**6))"
   ]
  },
  {
   "cell_type": "raw",
   "metadata": {
    "collapsed": false
   },
   "source": [
    "hist[-1]"
   ]
  },
  {
   "cell_type": "raw",
   "metadata": {
    "collapsed": false,
    "scrolled": true
   },
   "source": [
    "import pickle\n",
    "import matplotlib\n",
    "%matplotlib inline\n",
    "from matplotlib import pyplot as plt\n",
    "\n",
    "covs = pickle.load(open(\"covs.p\",\"rb\"))\n",
    "\n",
    "xdata = []\n",
    "ydata = []\n",
    "\n",
    "for k,v in covs.items():\n",
    "    xdata.append(k)\n",
    "    ydata.append(v)\n",
    "\n",
    "plt.figure()\n",
    "plt.plot(xdata[1:],ydata[1:])\n",
    "plt.xscale(\"log\")\n",
    "plt.yscale(\"log\")\n",
    "plt.xlabel(\"Coverage\")\n",
    "plt.ylabel(\"Number of positions with coverage\")\n",
    "plt.title(\"Fragment coverage distribution, chr2 example\")\n"
   ]
  },
  {
   "cell_type": "markdown",
   "metadata": {},
   "source": [
    "BASE CALLING SCRATCH CODE\n",
    "====="
   ]
  },
  {
   "cell_type": "code",
   "execution_count": 1,
   "metadata": {
    "collapsed": false
   },
   "outputs": [],
   "source": [
    "import itertools\n",
    "\n",
    "bases = ['A','T','G','C']\n",
    "genotypes = list(itertools.combinations_with_replacement(bases,bases))\n",
    "#genotypes = [('A','A'),('A','T')]"
   ]
  },
  {
   "cell_type": "code",
   "execution_count": 2,
   "metadata": {
    "collapsed": false
   },
   "outputs": [],
   "source": [
    "from math import log10, factorial\n",
    "from functools import reduce\n",
    "import operator\n",
    "from collections import defaultdict\n",
    "\n",
    "# HELPER FUNCTIONS\n",
    "\n",
    "# product of list\n",
    "def prod(iterable): # credit to: http://stackoverflow.com/questions/7948291/is-there-a-built-in-product-in-python\n",
    "    return reduce(operator.mul, iterable, 1)\n",
    "\n",
    "# sum of two probabilities that are in log form\n",
    "def addlogs(a,b):\n",
    "    if a > b:\n",
    "        return a + log10(1 + pow(10, b - a))\n",
    "    else:\n",
    "        return b + log10(1 + pow(10, a - b))\n",
    "\n",
    "# difference of two probabilities that are in log form\n",
    "def subtractlogs(a,b):\n",
    "    if a > b:\n",
    "        return a + log10(1 - pow(10, b - a))\n",
    "    else:\n",
    "        return b + log10(1 - pow(10, a - b))\n",
    "\n",
    "p_null = 0.5 # probability that strand is not sampled in chamber. hardcoded until we can estimate it\n",
    "\n",
    "# helper data structures that pre-compute probabilities of strand configurations\n",
    "\n",
    "ch_priors = [log10((1-p_null)/24)]*24 + [log10(p_null)]\n",
    "poss_ch = list(range(0,25)) # the last element is \"no chamber\"\n",
    "het_config_probs = dict()\n",
    "\n",
    "for c1,c2,c3,c4 in itertools.product(poss_ch,poss_ch,poss_ch,poss_ch):\n",
    "    # because of symmetry we ignore cases where we can flip the strands for the same result\n",
    "    # e.g. we ignore cases where strand 1 is in a later chamber than strand 2 and say that\n",
    "    # the cases where it is in an earlier chamber are twice as likely. Same for strands 3,4\n",
    "    if c1 > c2 and c3 > c4:\n",
    "        perm = log10(4)\n",
    "    elif (c1 > c2 and c3 == c4) or (c1 == c2 and c3 > c4):\n",
    "        perm = log10(2)\n",
    "    elif c1 == c2 and c3 == c4:\n",
    "        perm = log10(1)\n",
    "    else:\n",
    "        continue\n",
    "\n",
    "    het_config_probs[(c1,c2,c3,c4)] = perm+ch_priors[c1]+ch_priors[c2]+ch_priors[c3]+ch_priors[c4] # probability of configuration\n",
    "    \n",
    "possible_chambers = list(range(0,25))\n",
    "\n",
    "hom_config_probs = dict()\n",
    "\n",
    "for c1,c2,c3,c4 in itertools.product(poss_ch,poss_ch,poss_ch,poss_ch):\n",
    "    \n",
    "    lst  = sorted([c1,c2,c3,c4])\n",
    "    if tuple(lst) in hom_config_probs:\n",
    "        continue\n",
    "    uniq = list(set(lst))\n",
    "    counts  = [lst.count(u) for u in uniq]\n",
    "    perm = log10(factorial(len(lst))/prod([factorial(c) for c in counts]))\n",
    "    \n",
    "    hom_config_probs[tuple(lst)] = perm+ch_priors[c1]+ch_priors[c2]+ch_priors[c3]+ch_priors[c4] # probability of configuration    \n",
    "    \n",
    "# INPUT\n",
    "# G: a tuple that specifies genotype e.g. ('A','T')\n",
    "# nonzero_chambers: a list containing the indices of chambers 0..23 (or 24, unsampled) where strands may be (have read coverage)\n",
    "# OUTPUT\n",
    "# a list of configurations represented by tuples.\n",
    "# the tuples contain (sl,prob) where sl is a 4-tuple of strand chambers (0..23 or 24) and prob is log probability of config occuring\n",
    "def singlecell_config(G,nonzero_chambers):\n",
    "    g1,g2 = G\n",
    "    nz = nonzero_chambers + [24]\n",
    "    nzs = set(nonzero_chambers)\n",
    "    \n",
    "    configs = []\n",
    "    for c1,c2,c3,c4 in itertools.product(nz,nz,nz,nz):\n",
    "        if set.intersection({c1,c2,c3,c4},nzs) != nzs:\n",
    "            continue\n",
    "\n",
    "        # c1..c4 represent the chamber placements of strands 1..4\n",
    "        sl = (c1,c2,c3,c4)\n",
    "        if (g1 == g2 and sl not in hom_config_probs) or (g1 != g2 and sl not in het_config_probs):\n",
    "            continue\n",
    "        \n",
    "        if g1 == g2:\n",
    "            prob = hom_config_probs[(c1,c2,c3,c4)]\n",
    "        else:\n",
    "            prob = het_config_probs[(c1,c2,c3,c4)]\n",
    "            \n",
    "        configs.append((sl,prob))\n",
    "\n",
    "    total = configs[0][1]\n",
    "    for i in range(1,len(configs)):\n",
    "        total = addlogs(total,configs[i][1])\n",
    "    \n",
    "    for i in range(len(configs)):\n",
    "        configs[i] = (configs[i][0], configs[i][1] - total)\n",
    "        \n",
    "    return configs\n",
    "\n",
    "# INPUT\n",
    "# G: a tuple that specifies genotype e.g. ('A','T')\n",
    "# nonzero_chambers: a list containing one list per cell.\n",
    "# the inner list should contain the indices of chambers 0..23 (or 24, unsampled) where strands are found\n",
    "# OUTPUT\n",
    "# a list of configurations represented by tuples.\n",
    "# the tuple contains one inner tuple per cell.\n",
    "# these inner tuples contain (sl,prob) where sl is a 4-tuple of strand chambers (0..23 or 24) and prob is log probability of config occuring\n",
    "def multicell_config(G,nonzero_chambers):\n",
    "    g1,g2 = G\n",
    "    \n",
    "    config_sets = [singlecell_config(G,nz) for nz in nonzero_chambers]\n",
    "    return itertools.product(*config_sets)\n",
    "    \n"
   ]
  },
  {
   "cell_type": "code",
   "execution_count": 15,
   "metadata": {
    "collapsed": false
   },
   "outputs": [],
   "source": [
    "-"
   ]
  },
  {
   "cell_type": "code",
   "execution_count": 16,
   "metadata": {
    "collapsed": true
   },
   "outputs": [],
   "source": [
    "mixed_alleles = list(set([tuple(sorted(list(x))) for x in itertools.product(alleles,alleles)]))"
   ]
  },
  {
   "cell_type": "code",
   "execution_count": 17,
   "metadata": {
    "collapsed": false
   },
   "outputs": [
    {
     "data": {
      "text/plain": [
       "[('C', 'T'),\n",
       " ('G', 'G'),\n",
       " ('C', 'C'),\n",
       " ('A', 'G'),\n",
       " ('A', 'C'),\n",
       " ('T', 'T'),\n",
       " ('A', 'A'),\n",
       " ('C', 'G'),\n",
       " ('G', 'T'),\n",
       " ('A', 'T')]"
      ]
     },
     "execution_count": 17,
     "metadata": {},
     "output_type": "execute_result"
    }
   ],
   "source": [
    "mixed_alleles"
   ]
  },
  {
   "cell_type": "code",
   "execution_count": 18,
   "metadata": {
    "collapsed": true
   },
   "outputs": [],
   "source": [
    "nz = [0,1,2,24]\n",
    "it = itertools.product(nz,nz,nz,nz)"
   ]
  },
  {
   "cell_type": "code",
   "execution_count": 19,
   "metadata": {
    "collapsed": false
   },
   "outputs": [
    {
     "data": {
      "text/plain": [
       "(0, 0, 0, 0)"
      ]
     },
     "execution_count": 19,
     "metadata": {},
     "output_type": "execute_result"
    }
   ],
   "source": [
    "next(it)"
   ]
  },
  {
   "cell_type": "code",
   "execution_count": 23,
   "metadata": {
    "collapsed": false
   },
   "outputs": [
    {
     "name": "stdout",
     "output_type": "stream",
     "text": [
      "('G',)\t0.24999999999999986\n",
      "('C', 'T')\t0.0\n",
      "('A', 'T')\t0.0\n",
      "('T',)\t0.2499999999999998\n",
      "('A', 'G')\t0.0\n",
      "('G', 'T')\t0.0\n",
      "('A', 'C')\t0.0\n",
      "('C',)\t0.24999999999999967\n",
      "('A',)\t0.2499999999999998\n",
      "('C', 'G')\t0.0\n",
      "0.9999999999999991\n"
     ]
    }
   ],
   "source": [
    "total = 0\n",
    "for k,v in mixed_allele_priors[4].items():\n",
    "    print(\"{}\\t{}\".format(k,10**v))\n",
    "    total += 10**v\n",
    "print(total)"
   ]
  },
  {
   "cell_type": "code",
   "execution_count": 29,
   "metadata": {
    "collapsed": false
   },
   "outputs": [],
   "source": [
    "\n",
    "    \n",
    "\n"
   ]
  },
  {
   "cell_type": "code",
   "execution_count": 30,
   "metadata": {
    "collapsed": false
   },
   "outputs": [
    {
     "data": {
      "text/plain": [
       "defaultdict(float,\n",
       "            {0.001949317738791423: 0.010000000000000002,\n",
       "             0.0038910505836575876: 0.020000000000000004,\n",
       "             0.007751937984496124: 0.030000000000000006,\n",
       "             0.015384615384615385: 0.04000000000000001,\n",
       "             0.030303030303030304: 0.05000000000000001,\n",
       "             0.058823529411764705: 0.06000000000000001,\n",
       "             0.1111111111111111: 0.07,\n",
       "             0.2: 0.08000000000000002,\n",
       "             0.3333333333333333: 0.09000000000000002,\n",
       "             0.5: 0.10000000000000003,\n",
       "             0.6666666666666666: 0.09000000000000002,\n",
       "             0.8: 0.08000000000000002,\n",
       "             0.8888888888888888: 0.07,\n",
       "             0.9411764705882353: 0.06000000000000001,\n",
       "             0.9696969696969697: 0.05000000000000001,\n",
       "             0.9846153846153847: 0.04000000000000001,\n",
       "             0.9922480620155039: 0.030000000000000006,\n",
       "             0.9961089494163424: 0.020000000000000004,\n",
       "             0.9980506822612085: 0.010000000000000002})"
      ]
     },
     "execution_count": 30,
     "metadata": {},
     "output_type": "execute_result"
    }
   ],
   "source": []
  },
  {
   "cell_type": "code",
   "execution_count": 31,
   "metadata": {
    "collapsed": true
   },
   "outputs": [],
   "source": [
    "P_plst = list(P_p.items())"
   ]
  },
  {
   "cell_type": "code",
   "execution_count": 33,
   "metadata": {
    "collapsed": false
   },
   "outputs": [],
   "source": [
    "P_plst.sort()"
   ]
  },
  {
   "cell_type": "code",
   "execution_count": 34,
   "metadata": {
    "collapsed": false
   },
   "outputs": [
    {
     "data": {
      "text/plain": [
       "[(0.001949317738791423, 0.010000000000000002),\n",
       " (0.0038910505836575876, 0.020000000000000004),\n",
       " (0.007751937984496124, 0.030000000000000006),\n",
       " (0.015384615384615385, 0.04000000000000001),\n",
       " (0.030303030303030304, 0.05000000000000001),\n",
       " (0.058823529411764705, 0.06000000000000001),\n",
       " (0.1111111111111111, 0.07),\n",
       " (0.2, 0.08000000000000002),\n",
       " (0.3333333333333333, 0.09000000000000002),\n",
       " (0.5, 0.10000000000000003),\n",
       " (0.6666666666666666, 0.09000000000000002),\n",
       " (0.8, 0.08000000000000002),\n",
       " (0.8888888888888888, 0.07),\n",
       " (0.9411764705882353, 0.06000000000000001),\n",
       " (0.9696969696969697, 0.05000000000000001),\n",
       " (0.9846153846153847, 0.04000000000000001),\n",
       " (0.9922480620155039, 0.030000000000000006),\n",
       " (0.9961089494163424, 0.020000000000000004),\n",
       " (0.9980506822612085, 0.010000000000000002)]"
      ]
     },
     "execution_count": 34,
     "metadata": {},
     "output_type": "execute_result"
    }
   ],
   "source": [
    "P_plst"
   ]
  },
  {
   "cell_type": "code",
   "execution_count": 12,
   "metadata": {
    "collapsed": false
   },
   "outputs": [
    {
     "name": "stdout",
     "output_type": "stream",
     "text": [
      "30 30 30\n"
     ]
    },
    {
     "ename": "AssertionError",
     "evalue": "",
     "output_type": "error",
     "traceback": [
      "\u001b[1;31m---------------------------------------------------------------------------\u001b[0m",
      "\u001b[1;31mAssertionError\u001b[0m                            Traceback (most recent call last)",
      "\u001b[1;32m<ipython-input-12-229e3ad4fffa>\u001b[0m in \u001b[0;36m<module>\u001b[1;34m()\u001b[0m\n\u001b[0;32m     27\u001b[0m \u001b[1;32mfor\u001b[0m \u001b[0mi\u001b[0m \u001b[1;32min\u001b[0m \u001b[0mrange\u001b[0m\u001b[1;33m(\u001b[0m\u001b[0mlim\u001b[0m\u001b[1;33m,\u001b[0m\u001b[1;36m2000\u001b[0m\u001b[1;33m)\u001b[0m\u001b[1;33m:\u001b[0m\u001b[1;33m\u001b[0m\u001b[0m\n\u001b[0;32m     28\u001b[0m     \u001b[0mprint\u001b[0m\u001b[1;33m(\u001b[0m\u001b[1;34m\"{} {} {}\"\u001b[0m\u001b[1;33m.\u001b[0m\u001b[0mformat\u001b[0m\u001b[1;33m(\u001b[0m\u001b[0mi\u001b[0m\u001b[1;33m,\u001b[0m\u001b[0mlen\u001b[0m\u001b[1;33m(\u001b[0m\u001b[0mcov_frac_dist\u001b[0m\u001b[1;33m[\u001b[0m\u001b[0mi\u001b[0m\u001b[1;33m]\u001b[0m\u001b[1;33m)\u001b[0m\u001b[1;33m,\u001b[0m \u001b[0mlim\u001b[0m\u001b[1;33m)\u001b[0m\u001b[1;33m)\u001b[0m\u001b[1;33m\u001b[0m\u001b[0m\n\u001b[1;32m---> 29\u001b[1;33m     \u001b[1;32massert\u001b[0m\u001b[1;33m(\u001b[0m\u001b[0mlen\u001b[0m\u001b[1;33m(\u001b[0m\u001b[0mcov_frac_dist\u001b[0m\u001b[1;33m[\u001b[0m\u001b[0mj\u001b[0m\u001b[1;33m]\u001b[0m\u001b[1;33m)\u001b[0m \u001b[1;33m==\u001b[0m \u001b[0mlim\u001b[0m\u001b[1;33m)\u001b[0m\u001b[1;33m\u001b[0m\u001b[0m\n\u001b[0m",
      "\u001b[1;31mAssertionError\u001b[0m: "
     ]
    }
   ],
   "source": [
    "import pickle\n",
    "from collections import defaultdict\n",
    "\n",
    "#P_parent1_lst = [(0.001,log10(0.495)),(0.5,log10(0.01)),(0.999,log10(0.495))]\n",
    "cov_frac_dist_raw = pickle.load(open( \"parameters/cov_frac_dist.p\", \"rb\"))\n",
    "cov_frac_dist = defaultdict(list)\n",
    "\n",
    "lim = 30\n",
    "for i in range(1,lim+1):\n",
    "    cov_frac_dist[i] = cov_frac_dist_raw[i]\n",
    "\n",
    "def chunks(l, n): # credit to http://stackoverflow.com/questions/312443/how-do-you-split-a-list-into-evenly-sized-chunks\n",
    "    \"\"\"Yield successive n-sized chunks from l.\"\"\"\n",
    "    for i in range(0, len(l), n):\n",
    "        yield l[i:i + n]\n",
    "\n",
    "# given a list with length N*binsize, sum consectutive binsize-sized chunks into a length N list\n",
    "def condense(l, binsize):\n",
    "    return [sum(x) for x in chunks(l,binsize)]\n",
    "    \n",
    "for i in range(lim,lim):\n",
    "    binsize = int(i / lim)\n",
    "    lst = condense(cov_frac_dist_raw[i], binsize)\n",
    "    for j in range(i,i+lim):\n",
    "        cov_frac_dist[j] = lst\n",
    "\n",
    "for i in range(lim,2000):\n",
    "    print(\"{} {} {}\".format(i,len(cov_frac_dist[i]), lim))\n",
    "    assert(len(cov_frac_dist[i]) == lim)"
   ]
  },
  {
   "cell_type": "code",
   "execution_count": 7,
   "metadata": {
    "collapsed": false
   },
   "outputs": [
    {
     "data": {
      "text/plain": [
       "[0.0,\n",
       " 0.0,\n",
       " 0.10433744096411704,\n",
       " 0.056285398910663552,\n",
       " 0.048079184988147589,\n",
       " 0.035367243906411161,\n",
       " 0.03527676745743083,\n",
       " 0.025758645024700072,\n",
       " 0.029106273636972296,\n",
       " 0.026301503718582052,\n",
       " 0.025785787959394169,\n",
       " 0.025034833432857426,\n",
       " 0.026310551363480088,\n",
       " 0.024817689955304634,\n",
       " 0.02479959466550857,\n",
       " 0.021334346669561913,\n",
       " 0.025025785787959394,\n",
       " 0.024808642310406602,\n",
       " 0.026708647738993539,\n",
       " 0.024464831804281346,\n",
       " 0.026337694298174185,\n",
       " 0.026455313681848613,\n",
       " 0.028138175632882761,\n",
       " 0.025686263865515806,\n",
       " 0.036398675424786926,\n",
       " 0.036244865461520365,\n",
       " 0.048902520673868591,\n",
       " 0.057588259775980311,\n",
       " 0.10464506089065016,\n",
       " 0.0]"
      ]
     },
     "execution_count": 7,
     "metadata": {},
     "output_type": "execute_result"
    }
   ],
   "source": [
    "lst"
   ]
  },
  {
   "cell_type": "code",
   "execution_count": 9,
   "metadata": {
    "collapsed": false
   },
   "outputs": [
    {
     "data": {
      "text/plain": [
       "[2, 6, 10, 14, 18]"
      ]
     },
     "execution_count": 9,
     "metadata": {},
     "output_type": "execute_result"
    }
   ],
   "source": [
    "list(range(2,20,4))"
   ]
  },
  {
   "cell_type": "code",
   "execution_count": null,
   "metadata": {
    "collapsed": true
   },
   "outputs": [],
   "source": [
    "def estimate"
   ]
  }
 ],
 "metadata": {
  "kernelspec": {
   "display_name": "Python 3",
   "language": "python",
   "name": "python3"
  },
  "language_info": {
   "codemirror_mode": {
    "name": "ipython",
    "version": 3
   },
   "file_extension": ".py",
   "mimetype": "text/x-python",
   "name": "python",
   "nbconvert_exporter": "python",
   "pygments_lexer": "ipython3",
   "version": "3.5.2"
  }
 },
 "nbformat": 4,
 "nbformat_minor": 0
}
